{
 "cells": [
  {
   "cell_type": "code",
   "execution_count": 3,
   "metadata": {},
   "outputs": [],
   "source": [
    "import numpy as np\n",
    "\n",
    "def plot_values(f, l):\n",
    "    for val in l:\n",
    "        print(val, f(val))\n",
    "\n",
    "# def plot_min(f, left, right, step):\n",
    "#     minX = left\n",
    "#     minY = f(left)\n",
    "#     for i in np.arange(left, right, step):\n",
    "#         if minY > f(i):\n",
    "#             minY = f(i)\n",
    "#             minX = i\n",
    "#     print(\"Min X: {}, min Y: {}\".format(minX, minY))"
   ]
  },
  {
   "cell_type": "code",
   "execution_count": 16,
   "metadata": {},
   "outputs": [],
   "source": [
    "import math\n",
    "\n",
    "def plot_values(f, l):\n",
    "    for val in l:\n",
    "        print(val, f(val))\n",
    "\n",
    "f = lambda x: x ** 2 # 2 -> 4, -2 -> 4 5 -> 25\n",
    "l = [-1, 0, 1, 2, 3, 4, 5]"
   ]
  },
  {
   "cell_type": "code",
   "execution_count": 17,
   "metadata": {},
   "outputs": [
    {
     "name": "stdout",
     "output_type": "stream",
     "text": [
      "-1 1\n",
      "0 0\n",
      "1 1\n",
      "2 4\n",
      "3 9\n",
      "4 16\n",
      "5 25\n"
     ]
    }
   ],
   "source": [
    "plot_values(f, l)"
   ]
  },
  {
   "cell_type": "code",
   "execution_count": 21,
   "metadata": {},
   "outputs": [],
   "source": [
    "def find_min(f, l):\n",
    "    min_x = l[0]\n",
    "    _min = f(l[0])\n",
    "    for val in l:\n",
    "        if f(val) < _min:\n",
    "            _min = f(val)\n",
    "            min_x = val\n",
    "    print(min_x, _min)"
   ]
  },
  {
   "cell_type": "code",
   "execution_count": 23,
   "metadata": {},
   "outputs": [
    {
     "name": "stdout",
     "output_type": "stream",
     "text": [
      "0 0\n"
     ]
    }
   ],
   "source": [
    "find_min(f, l)"
   ]
  },
  {
   "cell_type": "code",
   "execution_count": 36,
   "metadata": {},
   "outputs": [
    {
     "name": "stdout",
     "output_type": "stream",
     "text": [
      "-0.5100000000221172 -0.9619579452714839\n"
     ]
    }
   ],
   "source": [
    "# [-10; 10] \n",
    "# step = 1\n",
    "# -10; -10+step; -10+2step; -10+3step ... 10\n",
    "import numpy as np\n",
    "import math\n",
    "f = lambda x: (x-0.1) * (x-0.1) / 10 + math.sin(3 * x)\n",
    "l = np.arange(-10, 10, 0.0001)\n",
    "find_min(f, l)"
   ]
  },
  {
   "cell_type": "code",
   "execution_count": 39,
   "metadata": {},
   "outputs": [],
   "source": [
    "def find_max(f, l):\n",
    "    max_x = l[0]\n",
    "    _max = f(l[0])\n",
    "    for val in l:\n",
    "        if f(val) > _max:\n",
    "            _max = f(val)\n",
    "            max_x = val\n",
    "    print(max_x, _max)"
   ]
  },
  {
   "cell_type": "code",
   "execution_count": 40,
   "metadata": {},
   "outputs": [
    {
     "name": "stdout",
     "output_type": "stream",
     "text": [
      "-10.0 11.189031624092861\n"
     ]
    }
   ],
   "source": [
    "import numpy as np\n",
    "import math\n",
    "f = lambda x: (x-0.1) * (x-0.1) / 10 + math.sin(3 * x)\n",
    "l = np.arange(-10, 10, 0.0001)\n",
    "find_max(f, l)"
   ]
  }
 ],
 "metadata": {
  "kernelspec": {
   "display_name": "Python 3",
   "language": "python",
   "name": "python3"
  },
  "language_info": {
   "codemirror_mode": {
    "name": "ipython",
    "version": 3
   },
   "file_extension": ".py",
   "mimetype": "text/x-python",
   "name": "python",
   "nbconvert_exporter": "python",
   "pygments_lexer": "ipython3",
   "version": "3.7.6"
  }
 },
 "nbformat": 4,
 "nbformat_minor": 4
}
